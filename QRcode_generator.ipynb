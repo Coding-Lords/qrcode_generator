{
 "cells": [
  {
   "cell_type": "code",
   "execution_count": 14,
   "id": "2404702f",
   "metadata": {},
   "outputs": [
    {
     "name": "stdout",
     "output_type": "stream",
     "text": [
      "Requirement already satisfied: pyqrcode in c:\\users\\dell\\anaconda3\\lib\\site-packages (1.2.1)Note: you may need to restart the kernel to use updated packages.\n",
      "\n"
     ]
    }
   ],
   "source": [
    "pip install pyqrcode"
   ]
  },
  {
   "cell_type": "code",
   "execution_count": 15,
   "id": "e34b7abe",
   "metadata": {},
   "outputs": [],
   "source": [
    "import pyqrcode"
   ]
  },
  {
   "cell_type": "code",
   "execution_count": 16,
   "id": "8f99156e",
   "metadata": {},
   "outputs": [
    {
     "name": "stdout",
     "output_type": "stream",
     "text": [
      "Enter text or URL to generate QRcode: Welcome to CodingLords!!\n"
     ]
    }
   ],
   "source": [
    "data=input(\"Enter text or URL to generate QRcode: \")"
   ]
  },
  {
   "cell_type": "code",
   "execution_count": 17,
   "id": "7a4913d2",
   "metadata": {},
   "outputs": [],
   "source": [
    "qr=pyqrcode.create(data)"
   ]
  },
  {
   "cell_type": "code",
   "execution_count": 18,
   "id": "cb2da3f4",
   "metadata": {},
   "outputs": [],
   "source": [
    "qr.svg('qrimage1.svg',scale=8)"
   ]
  },
  {
   "cell_type": "code",
   "execution_count": null,
   "id": "69da71ac",
   "metadata": {},
   "outputs": [],
   "source": []
  },
  {
   "cell_type": "code",
   "execution_count": null,
   "id": "87ff93b6",
   "metadata": {},
   "outputs": [],
   "source": []
  },
  {
   "cell_type": "code",
   "execution_count": null,
   "id": "a3a03dda",
   "metadata": {},
   "outputs": [],
   "source": []
  },
  {
   "cell_type": "code",
   "execution_count": null,
   "id": "f5080d1e",
   "metadata": {},
   "outputs": [],
   "source": []
  }
 ],
 "metadata": {
  "kernelspec": {
   "display_name": "Python 3 (ipykernel)",
   "language": "python",
   "name": "python3"
  },
  "language_info": {
   "codemirror_mode": {
    "name": "ipython",
    "version": 3
   },
   "file_extension": ".py",
   "mimetype": "text/x-python",
   "name": "python",
   "nbconvert_exporter": "python",
   "pygments_lexer": "ipython3",
   "version": "3.9.7"
  }
 },
 "nbformat": 4,
 "nbformat_minor": 5
}
